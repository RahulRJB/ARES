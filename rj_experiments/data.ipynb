{
 "cells": [
  {
   "cell_type": "code",
   "execution_count": 1,
   "metadata": {},
   "outputs": [],
   "source": [
    "import pandas as pd"
   ]
  },
  {
   "cell_type": "code",
   "execution_count": 3,
   "metadata": {},
   "outputs": [
    {
     "data": {
      "text/plain": [
       "'e:\\\\Projects\\\\ARES\\\\experiments'"
      ]
     },
     "execution_count": 3,
     "metadata": {},
     "output_type": "execute_result"
    }
   ],
   "source": [
    "pwd"
   ]
  },
  {
   "cell_type": "code",
   "execution_count": 5,
   "metadata": {},
   "outputs": [
    {
     "data": {
      "text/html": [
       "<div>\n",
       "<style scoped>\n",
       "    .dataframe tbody tr th:only-of-type {\n",
       "        vertical-align: middle;\n",
       "    }\n",
       "\n",
       "    .dataframe tbody tr th {\n",
       "        vertical-align: top;\n",
       "    }\n",
       "\n",
       "    .dataframe thead th {\n",
       "        text-align: right;\n",
       "    }\n",
       "</style>\n",
       "<table border=\"1\" class=\"dataframe\">\n",
       "  <thead>\n",
       "    <tr style=\"text-align: right;\">\n",
       "      <th></th>\n",
       "      <th>id</th>\n",
       "      <th>input</th>\n",
       "      <th>meta</th>\n",
       "      <th>output</th>\n",
       "      <th>wikipedia_id</th>\n",
       "      <th>Document</th>\n",
       "      <th>paragraph_number</th>\n",
       "      <th>Answer</th>\n",
       "      <th>Query</th>\n",
       "      <th>Context_Relevance_Label</th>\n",
       "      <th>Answer_Faithfulness_Label</th>\n",
       "      <th>Answer_Relevance_Label</th>\n",
       "    </tr>\n",
       "  </thead>\n",
       "  <tbody>\n",
       "    <tr>\n",
       "      <th>0</th>\n",
       "      <td>-6371603500131574271</td>\n",
       "      <td>who sings somebody's watching me with michael ...</td>\n",
       "      <td>{'left_context': '', 'mention': '', 'right_con...</td>\n",
       "      <td>[{'answer': 'Rockwell', 'meta': {'score': -1},...</td>\n",
       "      <td>1551152</td>\n",
       "      <td>\"Somebody's Watching Me\" is a song recorded by...</td>\n",
       "      <td>1.0</td>\n",
       "      <td>Rockwell</td>\n",
       "      <td>who sings somebody's watching me with michael ...</td>\n",
       "      <td>1.0</td>\n",
       "      <td>1.0</td>\n",
       "      <td>1.0</td>\n",
       "    </tr>\n",
       "    <tr>\n",
       "      <th>1</th>\n",
       "      <td>6860341019198485637</td>\n",
       "      <td>who cracked the enigma code in world war 2</td>\n",
       "      <td>{'left_context': '', 'mention': '', 'right_con...</td>\n",
       "      <td>[{'answer': 'Turing', 'meta': {'score': -1}, '...</td>\n",
       "      <td>1208</td>\n",
       "      <td>Alan Turing\\r\\n</td>\n",
       "      <td>0.0</td>\n",
       "      <td>Turing</td>\n",
       "      <td>who cracked the enigma code in world war 2</td>\n",
       "      <td>1.0</td>\n",
       "      <td>1.0</td>\n",
       "      <td>1.0</td>\n",
       "    </tr>\n",
       "    <tr>\n",
       "      <th>2</th>\n",
       "      <td>3066393401707107613</td>\n",
       "      <td>where was the u.s.s maine when it exploded in ...</td>\n",
       "      <td>{'left_context': '', 'mention': '', 'right_con...</td>\n",
       "      <td>[{'answer': 'Havana Harbor', 'meta': {'score':...</td>\n",
       "      <td>189610</td>\n",
       "      <td>Early comics produced for gay and bisexual mal...</td>\n",
       "      <td>1.0</td>\n",
       "      <td>Havana Harbor</td>\n",
       "      <td>where was the u.s.s maine when it exploded in ...</td>\n",
       "      <td>0.0</td>\n",
       "      <td>NaN</td>\n",
       "      <td>NaN</td>\n",
       "    </tr>\n",
       "    <tr>\n",
       "      <th>3</th>\n",
       "      <td>-7781842461440323674</td>\n",
       "      <td>where do characters live in this is us</td>\n",
       "      <td>{'left_context': '', 'mention': '', 'right_con...</td>\n",
       "      <td>[{'answer': 'Pittsburgh', 'meta': {'score': -1...</td>\n",
       "      <td>50526957</td>\n",
       "      <td>Most episodes feature a storyline taking place...</td>\n",
       "      <td>7.0</td>\n",
       "      <td>Pittsburgh</td>\n",
       "      <td>where do characters live in this is us</td>\n",
       "      <td>1.0</td>\n",
       "      <td>1.0</td>\n",
       "      <td>1.0</td>\n",
       "    </tr>\n",
       "    <tr>\n",
       "      <th>4</th>\n",
       "      <td>4842545652440215325</td>\n",
       "      <td>when did slave to the rhythm come out</td>\n",
       "      <td>{'left_context': '', 'mention': '', 'right_con...</td>\n",
       "      <td>[{'answer': '2010', 'meta': {'score': -1}, 'pr...</td>\n",
       "      <td>42832596</td>\n",
       "      <td>The song was written and recorded in 1990, wit...</td>\n",
       "      <td>3.0</td>\n",
       "      <td>2010</td>\n",
       "      <td>when did slave to the rhythm come out</td>\n",
       "      <td>1.0</td>\n",
       "      <td>1.0</td>\n",
       "      <td>1.0</td>\n",
       "    </tr>\n",
       "  </tbody>\n",
       "</table>\n",
       "</div>"
      ],
      "text/plain": [
       "                    id                                              input  \\\n",
       "0 -6371603500131574271  who sings somebody's watching me with michael ...   \n",
       "1  6860341019198485637         who cracked the enigma code in world war 2   \n",
       "2  3066393401707107613  where was the u.s.s maine when it exploded in ...   \n",
       "3 -7781842461440323674             where do characters live in this is us   \n",
       "4  4842545652440215325              when did slave to the rhythm come out   \n",
       "\n",
       "                                                meta  \\\n",
       "0  {'left_context': '', 'mention': '', 'right_con...   \n",
       "1  {'left_context': '', 'mention': '', 'right_con...   \n",
       "2  {'left_context': '', 'mention': '', 'right_con...   \n",
       "3  {'left_context': '', 'mention': '', 'right_con...   \n",
       "4  {'left_context': '', 'mention': '', 'right_con...   \n",
       "\n",
       "                                              output  wikipedia_id  \\\n",
       "0  [{'answer': 'Rockwell', 'meta': {'score': -1},...       1551152   \n",
       "1  [{'answer': 'Turing', 'meta': {'score': -1}, '...          1208   \n",
       "2  [{'answer': 'Havana Harbor', 'meta': {'score':...        189610   \n",
       "3  [{'answer': 'Pittsburgh', 'meta': {'score': -1...      50526957   \n",
       "4  [{'answer': '2010', 'meta': {'score': -1}, 'pr...      42832596   \n",
       "\n",
       "                                            Document  paragraph_number  \\\n",
       "0  \"Somebody's Watching Me\" is a song recorded by...               1.0   \n",
       "1                                    Alan Turing\\r\\n               0.0   \n",
       "2  Early comics produced for gay and bisexual mal...               1.0   \n",
       "3  Most episodes feature a storyline taking place...               7.0   \n",
       "4  The song was written and recorded in 1990, wit...               3.0   \n",
       "\n",
       "          Answer                                              Query  \\\n",
       "0       Rockwell  who sings somebody's watching me with michael ...   \n",
       "1         Turing         who cracked the enigma code in world war 2   \n",
       "2  Havana Harbor  where was the u.s.s maine when it exploded in ...   \n",
       "3     Pittsburgh             where do characters live in this is us   \n",
       "4           2010              when did slave to the rhythm come out   \n",
       "\n",
       "   Context_Relevance_Label  Answer_Faithfulness_Label  Answer_Relevance_Label  \n",
       "0                      1.0                        1.0                     1.0  \n",
       "1                      1.0                        1.0                     1.0  \n",
       "2                      0.0                        NaN                     NaN  \n",
       "3                      1.0                        1.0                     1.0  \n",
       "4                      1.0                        1.0                     1.0  "
      ]
     },
     "execution_count": 5,
     "metadata": {},
     "output_type": "execute_result"
    }
   ],
   "source": [
    "import pandas as pd\n",
    "\n",
    "df = pd.read_csv('../datasets/example_files/nq_labeled_output.tsv', sep='\\t')\n",
    "\n",
    "df.head()"
   ]
  },
  {
   "cell_type": "code",
   "execution_count": 9,
   "metadata": {},
   "outputs": [
    {
     "data": {
      "text/plain": [
       "id                                                         6860341019198485637\n",
       "input                               who cracked the enigma code in world war 2\n",
       "meta                         {'left_context': '', 'mention': '', 'right_con...\n",
       "output                       [{'answer': 'Turing', 'meta': {'score': -1}, '...\n",
       "wikipedia_id                                                              1208\n",
       "Document                                                       Alan Turing\\r\\n\n",
       "paragraph_number                                                           0.0\n",
       "Answer                                                                  Turing\n",
       "Query                               who cracked the enigma code in world war 2\n",
       "Context_Relevance_Label                                                    1.0\n",
       "Answer_Faithfulness_Label                                                  1.0\n",
       "Answer_Relevance_Label                                                     1.0\n",
       "Name: 1, dtype: object"
      ]
     },
     "execution_count": 9,
     "metadata": {},
     "output_type": "execute_result"
    }
   ],
   "source": [
    "df.iloc[1]"
   ]
  },
  {
   "cell_type": "code",
   "execution_count": 10,
   "metadata": {},
   "outputs": [],
   "source": [
    "df_1 = pd.read_csv('../datasets/example_files/nq_unlabeled_output.tsv', sep='\\t')"
   ]
  },
  {
   "cell_type": "code",
   "execution_count": 16,
   "metadata": {},
   "outputs": [
    {
     "data": {
      "text/plain": [
       "'[{\\'answer\\': \\'Colman\\', \\'meta\\': {\\'score\\': -1}, \\'provenance\\': array([{\\'bleu_score\\': 1.0, \\'start_character\\': 55, \\'start_paragraph_id\\': 3, \\'end_character\\': 61, \\'end_paragraph_id\\': 3, \\'meta\\': {\\'fever_page_id\\': \\'\\', \\'fever_sentence_id\\': -1, \\'annotation_id\\': \\'-1\\', \\'yes_no_answer\\': \\'\\', \\'evidence_span\\': array([], dtype=object)}, \\'section\\': \\'Section::::Plot summary.\\\\n\\', \\'title\\': \\'Where the Red Fern Grows\\', \\'wikipedia_id\\': \\'1301931\\'}],\\r\\n       dtype=object)}\\r\\n {\\'answer\\': \\'Billy Colman\\', \\'meta\\': {\\'score\\': -1}, \\'provenance\\': array([{\\'bleu_score\\': 1.0, \\'start_character\\': 49, \\'start_paragraph_id\\': 3, \\'end_character\\': 61, \\'end_paragraph_id\\': 3, \\'meta\\': {\\'fever_page_id\\': \\'\\', \\'fever_sentence_id\\': -1, \\'annotation_id\\': \\'-1\\', \\'yes_no_answer\\': \\'\\', \\'evidence_span\\': array([], dtype=object)}, \\'section\\': \\'Section::::Plot summary.\\\\n\\', \\'title\\': \\'Where the Red Fern Grows\\', \\'wikipedia_id\\': \\'1301931\\'}],\\r\\n       dtype=object)}\\r\\n {\\'answer\\': \\'\\', \\'meta\\': {\\'score\\': -1}, \\'provenance\\': array([{\\'bleu_score\\': 0.5042700171470642, \\'start_character\\': 0, \\'start_paragraph_id\\': 3, \\'end_character\\': 221, \\'end_paragraph_id\\': 3, \\'meta\\': {\\'fever_page_id\\': \\'\\', \\'fever_sentence_id\\': -1, \\'annotation_id\\': \\'10336869586027110834\\', \\'yes_no_answer\\': \\'NONE\\', \\'evidence_span\\': array([], dtype=object)}, \\'section\\': \\'Section::::Plot summary.\\\\n\\', \\'title\\': \\'Where the Red Fern Grows\\', \\'wikipedia_id\\': \\'1301931\\'}],\\r\\n       dtype=object)}\\r\\n {\\'answer\\': \\'\\', \\'meta\\': {\\'score\\': -1}, \\'provenance\\': array([{\\'bleu_score\\': -1.0, \\'start_character\\': -1, \\'start_paragraph_id\\': 3, \\'end_character\\': -1, \\'end_paragraph_id\\': 3, \\'meta\\': {\\'fever_page_id\\': \\'\\', \\'fever_sentence_id\\': -1, \\'annotation_id\\': \\'-1\\', \\'yes_no_answer\\': \\'\\', \\'evidence_span\\': array([\\'Billy Colman\\',\\r\\n               \"When leaving work in Idaho\\'s Snake River Valley, Billy Colman sees a pack of dogs attacking a stray coonhound.\",\\r\\n               \"When leaving work in Idaho\\'s Snake River Valley, Billy Colman sees a pack of dogs attacking a stray coonhound. He rescues, feeds, and eventually releases the stray, allowing it to return home. The experience reminds Billy of his childhood in the Ozark Mountains of Oklahoma.\"],\\r\\n              dtype=object)}, \\'section\\': \\'Section::::Plot summary.\\\\n\\', \\'title\\': \\'Where the Red Fern Grows\\', \\'wikipedia_id\\': \\'1301931\\'}                                                                                                                                                               ],\\r\\n       dtype=object)}\\r\\n {\\'answer\\': \\'\\', \\'meta\\': {\\'score\\': -1}, \\'provenance\\': array([{\\'bleu_score\\': -1.0, \\'start_character\\': -1, \\'start_paragraph_id\\': 20, \\'end_character\\': -1, \\'end_paragraph_id\\': 20, \\'meta\\': {\\'fever_page_id\\': \\'\\', \\'fever_sentence_id\\': -1, \\'annotation_id\\': \\'-1\\', \\'yes_no_answer\\': \\'\\', \\'evidence_span\\': array([\\'While the book and 1974 film version depict Billy Coleman to have long blond hair, the Billy Coleman in the 2003 film has short, dark brown hair.\\',\\r\\n               \\'Ann\" in it, and decides to name his dogs Old Dan and Little Ann. While the book and 1974 film version depict Billy Coleman to have long blond hair, the Billy Coleman in the 2003 film has short, dark brown hair. The novel depicted the coon hunting competition to last about six nights, whereas the two film versions place it at four nights. In the novel and 1974 film version, Billy Coleman, his dogs, and the two Pritchard boys Rainie and Rubin hunt for the legendary ghost coon at night, but in the 2003 film, they hunt for the ghost coon at daylight. Also, the 2003 film placed the boys\\\\\\' betted money at five dollars, while the 1974 film and novel, place the money at two dollars.\\'],\\r\\n              dtype=object)}, \\'section\\': \\'Section::::Differences between the film and the book.\\\\n\\', \\'title\\': \\'Where the Red Fern Grows (2003 film)\\', \\'wikipedia_id\\': \\'31194692\\'}                                                                                                                                                                                                                                                                                                                                                                                                                                                                                                                                              ],\\r\\n       dtype=object)}                                                                                                                                                                                                                                                                                                                                                                                                                                                                                                                                                                                                                                                                                                           ]'"
      ]
     },
     "execution_count": 16,
     "metadata": {},
     "output_type": "execute_result"
    }
   ],
   "source": [
    "df_1.iloc[100]['output']"
   ]
  },
  {
   "cell_type": "code",
   "execution_count": 13,
   "metadata": {},
   "outputs": [
    {
     "data": {
      "text/plain": [
       "Index(['id', 'input', 'meta', 'output', 'wikipedia_id', 'Document',\n",
       "       'paragraph_number', 'Answer', 'Query', 'Context_Relevance_Label',\n",
       "       'Answer_Faithfulness_Label', 'Answer_Relevance_Label'],\n",
       "      dtype='object')"
      ]
     },
     "execution_count": 13,
     "metadata": {},
     "output_type": "execute_result"
    }
   ],
   "source": [
    "df_1.columns"
   ]
  },
  {
   "cell_type": "code",
   "execution_count": 21,
   "metadata": {},
   "outputs": [],
   "source": [
    "df_2 = pd.read_csv('../datasets/few_shot_datasets/judge_scoring/nq_few_shot_prompt_for_judge_scoring.tsv', sep='\\t')"
   ]
  },
  {
   "cell_type": "code",
   "execution_count": 22,
   "metadata": {},
   "outputs": [
    {
     "data": {
      "text/plain": [
       "Query                              when did the first fleet arive in australia\n",
       "Document                     The 11 ships of the First Fleet set sail from ...\n",
       "Answer                                                         18 January 1788\n",
       "Context_Relevance_Label                                                [[Yes]]\n",
       "Answer_Relevance_Label                                                 [[Yes]]\n",
       "Answer_Faithfulness_Label                                              [[Yes]]\n",
       "Name: 0, dtype: object"
      ]
     },
     "execution_count": 22,
     "metadata": {},
     "output_type": "execute_result"
    }
   ],
   "source": [
    "df_2.iloc[0]"
   ]
  },
  {
   "cell_type": "code",
   "execution_count": null,
   "metadata": {},
   "outputs": [],
   "source": []
  }
 ],
 "metadata": {
  "kernelspec": {
   "display_name": "env_ares",
   "language": "python",
   "name": "python3"
  },
  "language_info": {
   "codemirror_mode": {
    "name": "ipython",
    "version": 3
   },
   "file_extension": ".py",
   "mimetype": "text/x-python",
   "name": "python",
   "nbconvert_exporter": "python",
   "pygments_lexer": "ipython3",
   "version": "3.10.11"
  }
 },
 "nbformat": 4,
 "nbformat_minor": 2
}
